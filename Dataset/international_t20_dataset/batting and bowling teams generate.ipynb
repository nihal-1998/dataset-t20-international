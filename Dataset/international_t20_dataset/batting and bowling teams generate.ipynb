{
 "cells": [
  {
   "cell_type": "code",
   "execution_count": 111,
   "metadata": {
    "collapsed": true
   },
   "outputs": [],
   "source": [
    "import pandas as pd\n",
    "import numpy as np"
   ]
  },
  {
   "cell_type": "code",
   "execution_count": 112,
   "metadata": {
    "collapsed": true
   },
   "outputs": [],
   "source": [
    "tt = pd.read_csv('international t20 ballbyball.csv')\n",
    "match = pd.read_csv('T20_match_data.csv')"
   ]
  },
  {
   "cell_type": "code",
   "execution_count": null,
   "metadata": {
    "collapsed": false
   },
   "outputs": [],
   "source": [
    "#test = tt[tt.Match_Id==1050615.0]"
   ]
  },
  {
   "cell_type": "code",
   "execution_count": null,
   "metadata": {
    "collapsed": false
   },
   "outputs": [],
   "source": [
    "#test"
   ]
  },
  {
   "cell_type": "code",
   "execution_count": null,
   "metadata": {
    "collapsed": false
   },
   "outputs": [],
   "source": [
    "#match = match[match.Match_Id==1050615.0]"
   ]
  },
  {
   "cell_type": "code",
   "execution_count": null,
   "metadata": {
    "collapsed": false
   },
   "outputs": [],
   "source": [
    "#match"
   ]
  },
  {
   "cell_type": "code",
   "execution_count": 113,
   "metadata": {
    "collapsed": false
   },
   "outputs": [],
   "source": [
    "teamlist = []\n",
    "for id1,t1,t2,tow,decisi in zip(match.Match_Id,match.Team1,match.Team2,match.Toss_winner,match.decision_toss):\n",
    "    abc = tt[tt.Match_Id==id1]\n",
    "    telist = [t1,t2]\n",
    "    c = 0\n",
    "    if decisi=='field':\n",
    "        bowling_team = tow\n",
    "        for k in telist:\n",
    "            if k!=bowling_team:\n",
    "                batting_team = k\n",
    "    if decisi=='bat':\n",
    "        batting_team = tow\n",
    "        for j in telist:\n",
    "            if j!=batting_team:\n",
    "                bowling_team = j            \n",
    "    su = 0\n",
    "    for over in abc.Over:\n",
    "        if over==0.1 and su != 4.5:\n",
    "            c = c + 1\n",
    "        su = over + su    \n",
    "        if c==1:\n",
    "            teamlist = teamlist + [[batting_team,bowling_team]]\n",
    "        else:\n",
    "            #batting_team , bowling_team = bowling_team,batting_team\n",
    "            teamlist = teamlist + [[bowling_team,batting_team]]\n",
    "    telist = []        \n",
    "        \n",
    "            \n",
    "        "
   ]
  },
  {
   "cell_type": "code",
   "execution_count": 116,
   "metadata": {
    "collapsed": false
   },
   "outputs": [],
   "source": [
    "teams = pd.DataFrame(data=teamlist,columns=['batting_team','bowling_team'])"
   ]
  },
  {
   "cell_type": "code",
   "execution_count": 117,
   "metadata": {
    "collapsed": false
   },
   "outputs": [],
   "source": [
    "teams.to_csv('teamsname_final.csv')"
   ]
  },
  {
   "cell_type": "code",
   "execution_count": 115,
   "metadata": {
    "collapsed": false
   },
   "outputs": [
    {
     "data": {
      "text/plain": [
       "269193"
      ]
     },
     "execution_count": 115,
     "metadata": {},
     "output_type": "execute_result"
    }
   ],
   "source": [
    "len(tt)"
   ]
  },
  {
   "cell_type": "code",
   "execution_count": null,
   "metadata": {
    "collapsed": true
   },
   "outputs": [],
   "source": []
  }
 ],
 "metadata": {
  "anaconda-cloud": {},
  "kernelspec": {
   "display_name": "Python [conda env:Anaconda3]",
   "language": "python",
   "name": "conda-env-Anaconda3-py"
  },
  "language_info": {
   "codemirror_mode": {
    "name": "ipython",
    "version": 3
   },
   "file_extension": ".py",
   "mimetype": "text/x-python",
   "name": "python",
   "nbconvert_exporter": "python",
   "pygments_lexer": "ipython3",
   "version": "3.5.5"
  }
 },
 "nbformat": 4,
 "nbformat_minor": 1
}
