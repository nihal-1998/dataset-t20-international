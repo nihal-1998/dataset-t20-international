{
 "cells": [
  {
   "cell_type": "code",
   "execution_count": 1,
   "metadata": {
    "collapsed": true
   },
   "outputs": [],
   "source": [
    "import yaml\n",
    "import pandas as pd\n",
    "import os"
   ]
  },
  {
   "cell_type": "code",
   "execution_count": null,
   "metadata": {
    "collapsed": false
   },
   "outputs": [],
   "source": [
    "directory = r'C:\\Users\\Nihal Patel\\Anaconda3\\yaml'\n",
    "data__ = []\n",
    "for filename in os.listdir(directory):\n",
    "    MyDict = yaml.load(open(os.path.join(directory, filename)))\n",
    "    match_id = filename[:7]\n",
    "    \n",
    "    \n",
    "    data = {}\n",
    "    data1 = {}\n",
    "    data2 = {}\n",
    "    data4 = {}\n",
    "    data5 = {}\n",
    "    c = 0\n",
    "    for key,values in MyDict.items():\n",
    "        \n",
    "        if key =='innings':\n",
    "            print(match_id)\n",
    "            #print(values)\n",
    "            data = values[0]\n",
    "            c = c + 1\n",
    "        for key1,values1 in data.items():\n",
    "            if key1=='1st innings':\n",
    "                data1 = values1\n",
    "        for key2,values2 in data1.items():\n",
    "            #data2 = {}\n",
    "            if key2=='deliveries':\n",
    "                data2 = values2\n",
    "        for avail in data2:\n",
    "            data4 = avail\n",
    "            data5 = list(data4.values())[0]\n",
    "            #print(list(data5['wicket'].values())[0])\n",
    "            #data6 = data5\n",
    "            try:\n",
    "                data__ = data__ + [[match_id,list(data4.keys())[0],data5['batsman'],data5['bowler'],data5['non_striker'],list(data5['runs'].values())[0],list(data5['runs'].values())[1],list(data5['runs'].values())[2],list(data5['wicket'].values())[0],list(data5['wicket'].values())[1],list(data5['wicket'].values())[2]]]\n",
    "            #try:\n",
    "                #data__ = data__ + [[list(data4.keys())[0],data5['batsman'],data5['bowler'],data5['non_striker'],list(data5['runs'].values())[0],list(data5['runs'].values())[1],list(data5['runs'].values())[2],list(data5['wicket'].values())[0],list(data5['wicket'].values())[1]]]            \n",
    "            except:\n",
    "                try:\n",
    "                    data__ = data__ + [[match_id,list(data4.keys())[0],data5['batsman'],data5['bowler'],data5['non_striker'],list(data5['runs'].values())[0],list(data5['runs'].values())[1],list(data5['runs'].values())[2],list(data5['wicket'].values())[0],list(data5['wicket'].values())[1]]] \n",
    "                except:    \n",
    "                    data__ = data__ + [[match_id,list(data4.keys())[0],data5['batsman'],data5['bowler'],data5['non_striker'],list(data5['runs'].values())[0],list(data5['runs'].values())[1],list(data5['runs'].values())[2]]]\n",
    "        if c == 1:\n",
    "            break    \n",
    "\n",
    "    k = 0\n",
    "    data = {}\n",
    "    data1 = {}\n",
    "    data2 = {}\n",
    "    data4 = {}\n",
    "    data5 = {}\n",
    "    for key,values in MyDict.items():\n",
    "        try:\n",
    "            if key=='innings':\n",
    "                print(match_id)\n",
    "                data = values[1]\n",
    "                k = k + 1\n",
    "            for key1,values1 in data.items():\n",
    "                if key1=='2nd innings':\n",
    "                    data1 = values1\n",
    "            for key2,values2 in data1.items():\n",
    "                #data2 = {}\n",
    "                if key2=='deliveries':\n",
    "                    data2 = values2\n",
    "            for avail in data2:\n",
    "                data4 = avail\n",
    "                data5 = list(data4.values())[0]\n",
    "                #print(list(data5['wicket'].values())[0])\n",
    "                #data6 = data5\n",
    "                try:\n",
    "                    data__ = data__ + [[match_id,list(data4.keys())[0],data5['batsman'],data5['bowler'],data5['non_striker'],list(data5['runs'].values())[0],list(data5['runs'].values())[1],list(data5['runs'].values())[2],list(data5['wicket'].values())[0],list(data5['wicket'].values())[1],list(data5['wicket'].values())[2]]]\n",
    "                #try:\n",
    "                 #   data__ = data__ + [[list(data4.keys())[0],data5['batsman'],data5['bowler'],data5['non_striker'],list(data5['runs'].values())[0],list(data5['runs'].values())[1],list(data5['runs'].values())[2],list(data5['wicket'].values())[0],list(data5['wicket'].values())[1]]]            \n",
    "                except:\n",
    "                    try:\n",
    "                        data__ = data__ + [[match_id,list(data4.keys())[0],data5['batsman'],data5['bowler'],data5['non_striker'],list(data5['runs'].values())[0],list(data5['runs'].values())[1],list(data5['runs'].values())[2],list(data5['wicket'].values())[0],list(data5['wicket'].values())[1]]]\n",
    "                    except:    \n",
    "                        data__ = data__ + [[match_id,list(data4.keys())[0],data5['batsman'],data5['bowler'],data5['non_striker'],list(data5['runs'].values())[0],list(data5['runs'].values())[1],list(data5['runs'].values())[2]]]\n",
    "\n",
    "            if k==1:\n",
    "                break \n",
    "        except:\n",
    "            break"
   ]
  },
  {
   "cell_type": "code",
   "execution_count": null,
   "metadata": {
    "collapsed": false
   },
   "outputs": [],
   "source": [
    "li = []\n",
    "for i in data__:\n",
    "    for j in i:\n",
    "        if j not in li:\n",
    "            li.append(j)\n",
    "            break\n",
    "        break    "
   ]
  },
  {
   "cell_type": "code",
   "execution_count": null,
   "metadata": {
    "collapsed": false
   },
   "outputs": [],
   "source": [
    "ballbyball = pd.DataFrame(data__,columns=['Match_Id','Over','Batsman','Bowler','non_striker','Batsman_runs','extra_runs','Total_runs','kind','player_out','Fielder'])      \n",
    "ballbyball.to_csv(r'C:\\Users\\Nihal Patel\\Anaconda3\\yaml\\international t20 ballbyball.csv')"
   ]
  },
  {
   "cell_type": "code",
   "execution_count": null,
   "metadata": {
    "collapsed": false
   },
   "outputs": [],
   "source": [
    "li"
   ]
  },
  {
   "cell_type": "code",
   "execution_count": null,
   "metadata": {
    "collapsed": true
   },
   "outputs": [],
   "source": [
    "        "
   ]
  },
  {
   "cell_type": "code",
   "execution_count": null,
   "metadata": {
    "collapsed": false
   },
   "outputs": [],
   "source": [
    "directory = r'C:\\Users\\Nihal Patel\\Anaconda3\\yaml'\n",
    "for filename in os.listdir(directory):\n",
    "    MyDict = yaml.load(open(os.path.join(directory, filename)))\n",
    "    \n",
    "    \n",
    "    "
   ]
  },
  {
   "cell_type": "code",
   "execution_count": null,
   "metadata": {
    "collapsed": false
   },
   "outputs": [],
   "source": [
    "MyDict"
   ]
  },
  {
   "cell_type": "code",
   "execution_count": 2,
   "metadata": {
    "collapsed": false
   },
   "outputs": [],
   "source": [
    "directory = r'C:\\Users\\Nihal Patel\\Anaconda3\\yaml'\n",
    "data_match = []\n",
    "for filename in os.listdir(directory):\n",
    "    MyDict = yaml.load(open(os.path.join(directory, filename)))\n",
    "    match_id = filename[:7]\n",
    "\n",
    "\n",
    "\n",
    "    data = {}\n",
    "    data1 = {}\n",
    "    data2={}\n",
    "    for key,values in MyDict.items():\n",
    "        if key=='info':\n",
    "            data = values\n",
    "            for key1,values1 in data.items():\n",
    "                if key1=='dates':\n",
    "                    date = list(values1)[0]\n",
    "                    #print(date)\n",
    "                elif key1=='gender':\n",
    "                    gender = values1\n",
    "                    #print(gender)\n",
    "                elif key1=='outcome':\n",
    "                    data1 = values1\n",
    "                    for key2,values2 in data1.items():\n",
    "                        if key2=='winner':\n",
    "                            winner = values2\n",
    "                        elif key2=='result':\n",
    "                            winner = 'no result'\n",
    "                            #print(winner)\n",
    "                elif key1=='player_of_match':\n",
    "                    pom = values1\n",
    "                    #print(pom)\n",
    "                elif key1=='teams':\n",
    "                    team1 = list(values1)[0]\n",
    "                    team2 = list(values1)[1]\n",
    "                    #print(team1,team2)\n",
    "                elif key1=='toss':\n",
    "                    data2 = values1\n",
    "                    for key3,values3 in data2.items():\n",
    "                        if key3=='decision':\n",
    "                            decision_toss = values3\n",
    "                            #print(decision_toss)   \n",
    "                        elif key3=='winner':\n",
    "                            toss_win = values3\n",
    "                            #print(toss_win)\n",
    "                elif key1=='venue':\n",
    "                    venue = values1\n",
    "                    #print(venue)\n",
    "    data_match = data_match + [[match_id,date,gender,venue,team1,team2,toss_win,decision_toss,winner,pom]]\n",
    "                #print(list(values1)[0])\n",
    "            \n",
    "            \n",
    "        "
   ]
  },
  {
   "cell_type": "code",
   "execution_count": 4,
   "metadata": {
    "collapsed": false
   },
   "outputs": [],
   "source": [
    "T20_match_data = pd.DataFrame(data_match,columns=['Match_Id','Date','Gender','Venue','Team1','Team2','Toss_winner','decision_toss','Match_winner','player_of_match'])      \n",
    "T20_match_data.to_csv(r'C:\\Users\\Nihal Patel\\Anaconda3\\yaml\\T20_match_data.csv')"
   ]
  },
  {
   "cell_type": "code",
   "execution_count": null,
   "metadata": {
    "collapsed": true
   },
   "outputs": [],
   "source": []
  }
 ],
 "metadata": {
  "anaconda-cloud": {},
  "kernelspec": {
   "display_name": "Python [conda env:Anaconda3]",
   "language": "python",
   "name": "conda-env-Anaconda3-py"
  },
  "language_info": {
   "codemirror_mode": {
    "name": "ipython",
    "version": 3
   },
   "file_extension": ".py",
   "mimetype": "text/x-python",
   "name": "python",
   "nbconvert_exporter": "python",
   "pygments_lexer": "ipython3",
   "version": "3.5.5"
  }
 },
 "nbformat": 4,
 "nbformat_minor": 1
}
